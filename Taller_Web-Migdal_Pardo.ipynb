{
  "nbformat": 4,
  "nbformat_minor": 0,
  "metadata": {
    "colab": {
      "name": "Untitled1.ipynb",
      "provenance": []
    },
    "kernelspec": {
      "name": "python3",
      "display_name": "Python 3"
    },
    "language_info": {
      "name": "python"
    }
  },
  "cells": [
    {
      "cell_type": "markdown",
      "source": [
        "# Taller de Evaluación - 1\n",
        "## Introducción a las Redes de Computadoras"
      ],
      "metadata": {
        "id": "ve8n_av485Ee"
      }
    },
    {
      "cell_type": "markdown",
      "source": [
        "### WEB SERVER\n",
        "\n",
        "<a href=\"https://github.com/IgnacioPardo/SocketWebServer\">Abrir repo del server en GitHub</a>"
      ],
      "metadata": {
        "id": "7pN8KreVAQl9"
      }
    },
    {
      "cell_type": "markdown",
      "source": [
        "### Ejercicio 5\n",
        "\n",
        "Desarrollar un cliente web que haga una request al servidor. Para esto debe enviar un\n",
        "“GET” del archivo taller.html. (El cliente web deberá ejecutar en otro entorno de\n",
        "Jupyter para poder comunicarse, de forma análoga a como funciona el servidor). El\n",
        "esqueleto del código es el siguiente:"
      ],
      "metadata": {
        "id": "2P02nNq-8vZe"
      }
    },
    {
      "cell_type": "code",
      "source": [
        "import socket"
      ],
      "metadata": {
        "id": "Ngn9OX5j1aMo"
      },
      "execution_count": 16,
      "outputs": []
    },
    {
      "cell_type": "code",
      "execution_count": 17,
      "metadata": {
        "id": "Kh-wIelR1FgR"
      },
      "outputs": [],
      "source": [
        "host = \"10.9.14.206\" # IP del host\n",
        "port = 8888 # numero de puerto\n",
        "socketCliente = socket.socket() # creamos el socket\n",
        "socketCliente.connect((host, port)) # conectamos al servidor\n"
      ]
    },
    {
      "cell_type": "code",
      "source": [
        "message = \"GET /taller.html HTTP/1.1\" # completar el request\n",
        "\n",
        "socketCliente.send(message.encode()) # enviamos el paquete\n",
        "\n",
        "data = socketCliente.recv(1024).decode() # escuchamos la respuesta\n",
        "print('El paquete recibido fue: \\n' + data)\n",
        "socketCliente.close() "
      ],
      "metadata": {
        "colab": {
          "base_uri": "https://localhost:8080/"
        },
        "id": "D5jeYOuA1q-m",
        "outputId": "b3a32678-5347-4c57-f3f0-4eb6b8450928"
      },
      "execution_count": 18,
      "outputs": [
        {
          "output_type": "stream",
          "name": "stdout",
          "text": [
            "El paquete recibido fue: \n",
            "HTTP/1.1 200 OK\r\n",
            "\r\n",
            "Bienvenidos a las Redes de Computadoras!\n"
          ]
        }
      ]
    },
    {
      "cell_type": "markdown",
      "source": [
        "### Ejercicio 6\n",
        "\n",
        "1. **¿Qué respuesta devolvió el servidor web?**\n",
        "\n",
        "El server devolvio `Status 200`, porque la request fue correcta para este puerto del servidor. En sus datos devolvió la frase \"Bienvenidos a redes de computadoras\"\n",
        "\n",
        "<center>Paquete IPv4</center>\n",
        "<img width=\"1136\" alt=\"IPv4\" src=\"https://user-images.githubusercontent.com/65306107/186989329-60435b5a-ef47-4718-a7d8-79b0849dbd77.png\">\n",
        "\n",
        "<center>Paquete TCP</center>\n",
        "<img width=\"1136\" alt=\"TCP\" src=\"https://user-images.githubusercontent.com/65306107/186989323-6959b6da-428b-4f85-8544-33ae6adc97fd.png\">\n",
        "\n",
        "<img width=\"1136\" alt=\"TCP2\" src=\"https://user-images.githubusercontent.com/65306107/186989319-e9f18aa7-26b8-4698-917a-ba88a419ee7e.png\">\n",
        "\n",
        "<center>Paquete HTTP</center>\n",
        "<img width=\"1136\" alt=\"HTTP\" src=\"https://user-images.githubusercontent.com/65306107/186989309-f8dbd308-22bc-4df9-adfc-b01051964ebf.png\">\n",
        "\n",
        "2. **¿Qué versión de HTTP se utilizó?**\n",
        "\n",
        "Usamos la `HTTP/1.1`, porque por default el socket utiliza la versión `HTTP/0.9` pero los browsers modernos no aceptan, entonces la cambiamos.\n",
        "\n",
        "3. **¿Cuántos bytes se transfirieron?**\n",
        "\n",
        "Se trasnfirieron `40 bytes` de data de `HTTP` y `59 bytes` de `TCP`\n",
        "\n"
      ],
      "metadata": {
        "id": "4NYqlcup4Cx4"
      }
    }
  ]
}