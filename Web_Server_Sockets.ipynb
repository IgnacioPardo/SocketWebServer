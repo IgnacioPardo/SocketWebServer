{
  "nbformat": 4,
  "nbformat_minor": 0,
  "metadata": {
    "colab": {
      "name": "Web Server Sockets",
      "provenance": [],
      "collapsed_sections": []
    },
    "kernelspec": {
      "name": "python3",
      "display_name": "Python 3"
    },
    "language_info": {
      "name": "python"
    }
  },
  "cells": [
    {
      "cell_type": "code",
      "source": [
        "# Importar todo de la clase socket\n",
        "from socket import *"
      ],
      "metadata": {
        "id": "Z8lgzhYovgD5"
      },
      "execution_count": 1,
      "outputs": []
    },
    {
      "cell_type": "code",
      "execution_count": 3,
      "metadata": {
        "id": "If1ULAUnvSdP"
      },
      "outputs": [],
      "source": [
        "serverSocket = socket(AF_INET, SOCK_STREAM)\n",
        "# Creo un objeto de tipo Socket\n",
        "\n",
        "# Puerto del Socket\n",
        "serverPort = 8888\n",
        "\n",
        "# IP a la que bindear el puerto, si el str esta vacío lo bindea al localhost\n",
        "host = \"\"\n",
        "serverSocket.bind((host, serverPort))\n",
        "\n",
        "# Comenzar a escuchar 1 sola conexion por vez\n",
        "# Listen acepta por parametro la cantidad de conexiones concurrentes\n",
        "serverSocket.listen(1)"
      ]
    },
    {
      "cell_type": "code",
      "source": [
        "# Aceptar infinitas conexiones secuenciales\n",
        "while True:\n",
        "  print('Sirviendo')\n",
        "  \n",
        "  # Aceptar una conexion, devuelve una tupla con un objeto conexion y la ip del host que se conecto\n",
        "  connectionSocket, addr = serverSocket.accept()\n",
        "  print('Se conectó la IP', addr)\n",
        "\n",
        "  # Si falla salta la exception y devuelve un error al host conectado\n",
        "  try:\n",
        "    # Recibe el mensaje en bits\n",
        "    message = connectionSocket.recv(1024)\n",
        "    print(\"msg\", message)\n",
        "\n",
        "    # Splitea la request por caracteres espacios. \n",
        "    # El primer elemento de la lista spliteada es el tipo de request\n",
        "    # El segundo es el archivo\n",
        "    # Ejemplo: GET, index.html\n",
        "    filename = message.split()[1]\n",
        "    print(\"filename\", filename)\n",
        "    \n",
        "    # Omito la respuesta si la request es al favicon (mas facil)\n",
        "    if filename != b'/favicon.ico':\n",
        "      \n",
        "      # Abro el archivo\n",
        "      f = open(filename[1:])\n",
        "\n",
        "      # Leo el string del archivo\n",
        "      outputdata = f.read()\n",
        "      #print(\"file\", outputdata)\n",
        "      \n",
        "      # Header de la Response a enviar. \n",
        "      # Especifica protocolo HTTP y versión 1.1, defaultea a 0.9 (ya no se lo bancan algunos browsers)\n",
        "      # Status 200 es que está OK\n",
        "      header = 'HTTP/1.1 200 OK\\r\\n\\r\\n'\n",
        "      # Encodea el string del header a bits y lo envia al host conectado\n",
        "      connectionSocket.send(header.encode())\n",
        "\n",
        "      # Encodea el string del archivo leido a bits y lo envia...\n",
        "      connectionSocket.send(outputdata.encode())\n",
        "  except IOError:\n",
        "    # Devuelve header de error (404 es file not found, https://en.wikipedia.org/wiki/List_of_HTTP_status_codes)\n",
        "    connectionSocket.send(\"HTTP/1.1 404 File not found\\r\\n\\r\\n\")\n",
        "  \n",
        "  # Cierro la conexion\n",
        "  connectionSocket.close()\n",
        "  # Vuelve a iterar el While loop para recibir otra conexión en el mismo socket."
      ],
      "metadata": {
        "colab": {
          "base_uri": "https://localhost:8080/"
        },
        "id": "x5mQdzecxCUu",
        "outputId": "608a3ae6-2267-464c-a3a5-49d5d2b0c89d"
      },
      "execution_count": null,
      "outputs": [
        {
          "output_type": "stream",
          "name": "stdout",
          "text": [
            "Sirviendo\n",
            "Se conectó la IP ('10.9.12.32', 58587)\n",
            "msg b'GET /taller.html HTTP/1.1\\r\\nHost: 10.9.14.206:8888\\r\\nConnection: keep-alive\\r\\nCache-Control: max-age=0\\r\\nUpgrade-Insecure-Requests: 1\\r\\nUser-Agent: Mozilla/5.0 (Macintosh; Intel Mac OS X 10_15_7) AppleWebKit/537.36 (KHTML, like Gecko) Chrome/103.0.5060.134 Safari/537.36\\r\\nAccept: text/html,application/xhtml+xml,application/xml;q=0.9,image/avif,image/webp,image/apng,*/*;q=0.8,application/signed-exchange;v=b3;q=0.9\\r\\nAccept-Encoding: gzip, deflate\\r\\nAccept-Language: es-ES,es;q=0.9\\r\\n\\r\\n'\n",
            "filename b'/taller.html'\n",
            "Sirviendo\n",
            "Se conectó la IP ('10.9.12.32', 58588)\n",
            "msg b'GET /favicon.ico HTTP/1.1\\r\\nHost: 10.9.14.206:8888\\r\\nConnection: keep-alive\\r\\nUser-Agent: Mozilla/5.0 (Macintosh; Intel Mac OS X 10_15_7) AppleWebKit/537.36 (KHTML, like Gecko) Chrome/103.0.5060.134 Safari/537.36\\r\\nAccept: image/avif,image/webp,image/apng,image/svg+xml,image/*,*/*;q=0.8\\r\\nReferer: http://10.9.14.206:8888/taller.html\\r\\nAccept-Encoding: gzip, deflate\\r\\nAccept-Language: es-ES,es;q=0.9\\r\\n\\r\\n'\n",
            "filename b'/favicon.ico'\n",
            "Sirviendo\n",
            "Se conectó la IP ('10.9.12.32', 58589)\n",
            "msg b'GET /favicon.ico HTTP/1.1\\r\\nHost: 10.9.14.206:8888\\r\\nConnection: keep-alive\\r\\nUser-Agent: Mozilla/5.0 (Macintosh; Intel Mac OS X 10_15_7) AppleWebKit/537.36 (KHTML, like Gecko) Chrome/103.0.5060.134 Safari/537.36\\r\\nAccept: image/avif,image/webp,image/apng,image/svg+xml,image/*,*/*;q=0.8\\r\\nReferer: http://10.9.14.206:8888/taller.html\\r\\nAccept-Encoding: gzip, deflate\\r\\nAccept-Language: es-ES,es;q=0.9\\r\\n\\r\\n'\n",
            "filename b'/favicon.ico'\n",
            "Sirviendo\n",
            "Se conectó la IP ('10.9.12.32', 58592)\n",
            "msg b'GET /taller.html HTTP/1.1'\n",
            "filename b'/taller.html'\n",
            "Sirviendo\n",
            "Se conectó la IP ('10.9.12.32', 58617)\n",
            "msg b'GET /taller.html HTTP/1.1'\n",
            "filename b'/taller.html'\n",
            "Sirviendo\n",
            "Se conectó la IP ('10.9.12.32', 58637)\n",
            "msg b'GET /taller.html HTTP/1.1'\n",
            "filename b'/taller.html'\n",
            "Sirviendo\n",
            "Se conectó la IP ('10.9.12.32', 58643)\n",
            "msg b'GET /taller.html HTTP/1.1'\n",
            "filename b'/taller.html'\n",
            "Sirviendo\n",
            "Se conectó la IP ('10.9.12.32', 58647)\n",
            "msg b'GET /taller.html HTTP/1.1'\n",
            "filename b'/taller.html'\n",
            "Sirviendo\n",
            "Se conectó la IP ('10.9.12.32', 59140)\n",
            "msg b'GET /taller.html HTTP/1.1'\n",
            "filename b'/taller.html'\n",
            "Sirviendo\n"
          ]
        }
      ]
    },
    {
      "cell_type": "code",
      "source": [
        "# Matar el socket\n",
        "serverSocket.close()"
      ],
      "metadata": {
        "id": "kiRKqe4X2CTm"
      },
      "execution_count": null,
      "outputs": []
    }
  ]
}